{
 "cells": [
  {
   "cell_type": "code",
   "execution_count": 8,
   "metadata": {},
   "outputs": [],
   "source": [
    "from IPython.display import clear_output\n",
    "\n",
    "board=[\"  \",\"  \",\"  \",\"  \",\"  \",\"  \",\"  \",\"  \",\"  \",\"  \"]"
   ]
  },
  {
   "cell_type": "code",
   "execution_count": 9,
   "metadata": {},
   "outputs": [],
   "source": [
    "\n",
    "def display_board(board):\n",
    "    clear_output()\n",
    "    print(\"Welcome to TIC TAC TOE Game!\\n\")\n",
    "    print(board[1]+'|'+board[2]+'|'+board[3])\n",
    "    print(\"--------\")\n",
    "    print(board[4]+'|'+board[5]+'|'+board[6])\n",
    "    print(\"--------\")\n",
    "    print(board[7]+'|'+board[8]+'|'+board[9])\n"
   ]
  },
  {
   "cell_type": "code",
   "execution_count": 10,
   "metadata": {},
   "outputs": [],
   "source": [
    "def user_input():\n",
    "    marker=\" \"\n",
    "    accepted_choice=['O','X']\n",
    "    while marker not in accepted_choice:\n",
    "        player1=input(\"You want to choose O or X\")\n",
    "        marker=player1\n",
    "    if player1=='X':\n",
    "        player2='O'\n",
    "    else:\n",
    "        player2='X'\n",
    "    return(player1,player2)\n"
   ]
  },
  {
   "cell_type": "code",
   "execution_count": 11,
   "metadata": {},
   "outputs": [],
   "source": [
    "def position_choice():\n",
    "    choice=\"wrong\"\n",
    "    accepted_range=range(1,10)\n",
    "    within=False\n",
    "    while choice.isdigit()==False or within==False:\n",
    "        position=input(\"Enter the position to mark(1-9)\")\n",
    "        choice=position\n",
    "        if choice.isdigit()==False:\n",
    "            print(\"Please enter a valid input\")\n",
    "        else:\n",
    "            if (int)(choice) not in accepted_range:\n",
    "                print(\"Please enter a valid range from 1-9\")\n",
    "                within=False\n",
    "            else:\n",
    "                within=True\n",
    "    return int(position)\n",
    "           \n"
   ]
  },
  {
   "cell_type": "code",
   "execution_count": 12,
   "metadata": {},
   "outputs": [],
   "source": [
    "def winner_checker(board,player1,player2):\n",
    "    for i in range(1,10,3):\n",
    "        if board[i]==board[i+1] and board[i]==board[i+2] and board[i]!=\"  \":\n",
    "            if board[i]==player1:\n",
    "                print(\"Woah! Player1 wins\")\n",
    "                return True\n",
    "            else:\n",
    "                print(\"Yippie!Player2 wins\")\n",
    "                return True\n",
    "    for j in range(1,4):\n",
    "         if board[j]==board[j+3] and board[j]==board[j+6] and board[j]!=\"  \":\n",
    "            if board[i]==player1:\n",
    "                print(\"Woah! Player1 wins\")\n",
    "                return True\n",
    "            else:\n",
    "                print(\"Yippie!Player2 wins\")\n",
    "                return True\n",
    "    if(board[1]==board[5] and board[1]==board[9] and board[1]!=\"  \"):\n",
    "        if board[1]==player1:\n",
    "            print(\"Woah! Player1 wins\")\n",
    "            return True\n",
    "        else:\n",
    "            print(\"Yippie!Player2 wins\")\n",
    "            return True\n",
    "    elif(board[3]==board[5] and board[3]==board[7] and board[3]!=\"  \"):\n",
    "        if board[3]==player1:\n",
    "            print(\"Woah! Player1 wins\")\n",
    "            return True\n",
    "        else:\n",
    "            print(\"Yippie!Player2 wins\")\n",
    "            return True\n",
    "          \n",
    "    elif board.count(player1)==5:\n",
    "        print(\"Game Draw\")\n",
    "        return True\n",
    "    else:\n",
    "        return False"
   ]
  },
  {
   "cell_type": "code",
   "execution_count": 13,
   "metadata": {},
   "outputs": [],
   "source": [
    "def placement(board):\n",
    "    board=[\"  \",\"  \",\"  \",\"  \",\"  \",\"  \",\"  \",\"  \",\"  \",\"  \"]\n",
    "    print(\"Ready to play!\")\n",
    "    display_board(board)\n",
    "    position=position_choice()\n",
    "    display_board(board)\n",
    "    while board.count(player1)!=6:\n",
    "        if board[position]!='X' and board[position]!='O':\n",
    "            board[position]=player1\n",
    "            display_board(board)\n",
    "            if winner_checker(board,player1,player2):\n",
    "                return\n",
    "            position=position_choice()\n",
    "            if board[position]!='O' and board[position]!='X' and board.count(player2)!=5:\n",
    "                board[position]=player2\n",
    "                display_board(board)\n",
    "                if winner_checker(board,player1,player2):\n",
    "                    return\n",
    "                position=position_choice()\n",
    "            else:\n",
    "                print(\"The space is already occupied.\")\n",
    "                position=position_choice()\n",
    "                board[position]=player2\n",
    "                display_board(board)\n",
    "                if winner_checker(board,player1,player2):\n",
    "                    return\n",
    "                position=position_choice()\n",
    "        else:\n",
    "            print(\"The space is already occupied.\")\n",
    "            position=position_choice()\n",
    "            board[position]=player1\n",
    "            display_board(board)\n",
    "            if winner_checker(board,player1,player2):\n",
    "                return\n",
    "            position=position_choice()\n",
    "            if board[position]!='O' and board[position]!='X' and board.count(player2)!=5:\n",
    "                board[position]=player2\n",
    "                display_board(board)\n",
    "                if winner_checker(board,player1,player2):\n",
    "                    return\n",
    "                position=position_choice()\n",
    "            else:\n",
    "                print(\"The space is already occupied.\")\n",
    "                position=position_choice()\n",
    "                board[position]=player2\n",
    "                display_board(board)\n",
    "                if winner_checker(board,player1,player2):\n",
    "                    return\n",
    "                position=position_choice()"
   ]
  },
  {
   "cell_type": "code",
   "execution_count": 14,
   "metadata": {},
   "outputs": [
    {
     "name": "stdout",
     "output_type": "stream",
     "text": [
      "Welcome to TIC TAC TOE Game!\n",
      "\n",
      "X|O|X\n",
      "--------\n",
      "O|X|O\n",
      "--------\n",
      "  |  |X\n",
      "Woah! Player1 wins\n",
      "Want to play again?Enter 'Y' or 'N'N\n"
     ]
    }
   ],
   "source": [
    "player1,player2=user_input()\n",
    "print(\"Player1=\",player1)\n",
    "print(\"Player2=\",player2)\n",
    "placement(board)\n",
    "def replay():\n",
    "    choice=' '\n",
    "    while choice!='Y'or choice!='N':\n",
    "        choice=input(\"Want to play again?Enter 'Y' or 'N'\")\n",
    "        if choice=='Y':\n",
    "            return True\n",
    "        else:\n",
    "            return False\n",
    "while replay()==True:\n",
    "    player1,player2=user_input()\n",
    "    placement(board)\n",
    "    "
   ]
  },
  {
   "cell_type": "code",
   "execution_count": null,
   "metadata": {},
   "outputs": [],
   "source": []
  },
  {
   "cell_type": "code",
   "execution_count": null,
   "metadata": {},
   "outputs": [],
   "source": []
  },
  {
   "cell_type": "code",
   "execution_count": null,
   "metadata": {},
   "outputs": [],
   "source": []
  }
 ],
 "metadata": {
  "kernelspec": {
   "display_name": "Python 3",
   "language": "python",
   "name": "python3"
  },
  "language_info": {
   "codemirror_mode": {
    "name": "ipython",
    "version": 3
   },
   "file_extension": ".py",
   "mimetype": "text/x-python",
   "name": "python",
   "nbconvert_exporter": "python",
   "pygments_lexer": "ipython3",
   "version": "3.7.3"
  }
 },
 "nbformat": 4,
 "nbformat_minor": 2
}
