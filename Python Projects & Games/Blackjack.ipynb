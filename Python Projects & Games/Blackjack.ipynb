{
 "cells": [
  {
   "cell_type": "code",
   "execution_count": 34,
   "metadata": {},
   "outputs": [],
   "source": [
    "from random import shuffle\n",
    "suits = ('Hearts', 'Diamonds', 'Spades', 'Clubs')\n",
    "ranks = ('Two', 'Three', 'Four', 'Five', 'Six', 'Seven', 'Eight', 'Nine', 'Ten', 'Jack', 'Queen', 'King', 'Ace')\n",
    "values = {'Two':2, 'Three':3, 'Four':4, 'Five':5, 'Six':6, 'Seven':7, 'Eight':8, 'Nine':9, 'Ten':10, 'Jack':10,\n",
    "         'Queen':10, 'King':10, 'Ace':11}\n",
    "playing=True"
   ]
  },
  {
   "cell_type": "code",
   "execution_count": 35,
   "metadata": {},
   "outputs": [],
   "source": [
    "class Card:\n",
    "    def __init__(self,suit,rank):\n",
    "        self.suit=suit\n",
    "        self.rank=rank\n",
    "        self.value=values[rank]\n",
    "    def __str__(self):\n",
    "        return f\"{self.rank} of {self.suit}\""
   ]
  },
  {
   "cell_type": "code",
   "execution_count": 36,
   "metadata": {},
   "outputs": [],
   "source": [
    "class Deck:\n",
    "    def __init__(self):\n",
    "        self.deck=[]\n",
    "        for suit in suits:\n",
    "            for rank in ranks:\n",
    "                created_card=Card(suit,rank)\n",
    "                self.deck.append(created_card)\n",
    "    def __str__(self):\n",
    "        return self.deck\n",
    "    def shuffle(self):\n",
    "        shuffle(self.deck)\n",
    "    def deal(self):\n",
    "        return self.deck.pop(0)\n",
    "deck=Deck()"
   ]
  },
  {
   "cell_type": "code",
   "execution_count": 37,
   "metadata": {},
   "outputs": [],
   "source": [
    "class Hand():\n",
    "    def __init__(self):\n",
    "        self.cards = []  # start with an empty list as we did in the Deck class\n",
    "        self.value = 0   # start with zero value\n",
    "        self.aces = 0    # add an attribute to keep track of aces\n",
    "    def add_card(self,card):\n",
    "        self.cards.append(card)\n",
    "        self.value=self.value+values[card.rank]\n",
    "        if card.rank==\"Ace\":\n",
    "            self.aces+=1\n",
    "    def adjust_for_ace(self):\n",
    "        #if total value greater than 21 and I still have an ace then change my ace to 1 instead 11\n",
    "        while self.value>21 and self.aces>0:\n",
    "            self.value-=10\n",
    "            self.aces-=1\n",
    "       \n",
    "    def __len__(self):\n",
    "        return self.cards\n",
    "    "
   ]
  },
  {
   "cell_type": "code",
   "execution_count": 38,
   "metadata": {},
   "outputs": [],
   "source": [
    "class Chips():\n",
    "    def __init__(self):\n",
    "        self.total=100\n",
    "        self.bet=0\n",
    "    def win_bet(self):\n",
    "        self.total=self.total+self.bet\n",
    "    \n",
    "    def lose_bet(self):\n",
    "        self.total=100\n",
    "        self.total=self.total-self.bet\n",
    "chip=Chips()"
   ]
  },
  {
   "cell_type": "code",
   "execution_count": 39,
   "metadata": {},
   "outputs": [],
   "source": [
    "def take_bet():\n",
    "    while True:\n",
    "        try:\n",
    "            amt=int(input(\"Enter the amount for bet\"))\n",
    "        except:\n",
    "            print(\"Please enter the valid amount\")\n",
    "            continue\n",
    "        else:\n",
    "            if(amt<=chip.total):\n",
    "                print(f\"Player playing the bet for Rs.{amt}\")\n",
    "                return amt\n",
    "            else:\n",
    "                print(\"Amount not available\")\n",
    "                continue\n"
   ]
  },
  {
   "cell_type": "code",
   "execution_count": 40,
   "metadata": {},
   "outputs": [],
   "source": [
    "def hit(deck,hand):\n",
    "    hand.add_card(deck.deal())\n",
    "    hand.adjust_for_ace()"
   ]
  },
  {
   "cell_type": "code",
   "execution_count": 41,
   "metadata": {},
   "outputs": [],
   "source": [
    "def hit_or_stand(deck,hand):\n",
    "    global playing  # to control an upcoming while loop\n",
    "    while True:\n",
    "            try:\n",
    "                choice=input(\"Hit OR Stand?\")\n",
    "            \n",
    "            except:\n",
    "                print(\"Please chooce either hit or stand\")\n",
    "                continue\n",
    "            else:\n",
    "                if choice==\"Hit\":\n",
    "                    hit(deck,hand)\n",
    "                    break\n",
    "                elif choice==\"Stand\":\n",
    "                    playing=False\n",
    "                    break\n",
    "                else:\n",
    "                    print(\"INVALID CHOICE\")\n",
    "                "
   ]
  },
  {
   "cell_type": "code",
   "execution_count": null,
   "metadata": {},
   "outputs": [],
   "source": []
  },
  {
   "cell_type": "code",
   "execution_count": null,
   "metadata": {},
   "outputs": [],
   "source": []
  },
  {
   "cell_type": "code",
   "execution_count": null,
   "metadata": {},
   "outputs": [],
   "source": []
  },
  {
   "cell_type": "code",
   "execution_count": 42,
   "metadata": {},
   "outputs": [],
   "source": [
    "def show_some(player,dealer):\n",
    "    for i in range(len(player.cards)):\n",
    "        print(\"Player:-->\",player.cards[i])\n",
    "    print(\"Dealer:--> Hidden Card\",dealer.cards[0])"
   ]
  },
  {
   "cell_type": "code",
   "execution_count": 43,
   "metadata": {},
   "outputs": [],
   "source": [
    "def show_all(player,dealer):\n",
    "    for i in range(len(player.cards)):\n",
    "        print(\"Player--->\",player.cards[i])\n",
    "    for j in range(len(dealer.cards)):\n",
    "        print(\"Dealer-->\",dealer.cards[j])"
   ]
  },
  {
   "cell_type": "code",
   "execution_count": 44,
   "metadata": {},
   "outputs": [],
   "source": [
    "def player_busts():\n",
    "    print(\"Player busts\")\n",
    "def player_wins():\n",
    "    print(\"Player wins\")\n",
    "\n",
    "def dealer_busts():\n",
    "    print(\"Dealer busts\")\n",
    "    \n",
    "def dealer_wins():\n",
    "    print(\"Dealer wins\")\n",
    "    \n"
   ]
  },
  {
   "cell_type": "markdown",
   "metadata": {},
   "source": []
  },
  {
   "cell_type": "code",
   "execution_count": 45,
   "metadata": {},
   "outputs": [
    {
     "name": "stdout",
     "output_type": "stream",
     "text": [
      "Welcome to BLACKJACK...\n",
      "Enter the amount for bet60\n",
      "Player playing the bet for Rs.60\n",
      "Player:--> Six of Clubs\n",
      "Player:--> Four of Clubs\n",
      "Dealer:--> Hidden Card Ace of Clubs\n",
      "Hit OR Stand?Hit\n",
      "Player:--> Six of Clubs\n",
      "Player:--> Four of Clubs\n",
      "Player:--> Five of Hearts\n",
      "Dealer:--> Hidden Card Ace of Clubs\n",
      "Hit OR Stand?Hit\n",
      "Player:--> Six of Clubs\n",
      "Player:--> Four of Clubs\n",
      "Player:--> Five of Hearts\n",
      "Player:--> Ten of Hearts\n",
      "Dealer:--> Hidden Card Ace of Clubs\n",
      "Player busts\n",
      "Player---> Six of Clubs\n",
      "Player---> Four of Clubs\n",
      "Player---> Five of Hearts\n",
      "Player---> Ten of Hearts\n",
      "Dealer--> Ace of Clubs\n",
      "Dealer--> Six of Hearts\n",
      "Dealer:  160\n",
      "Player:  40\n",
      "Would you like to play again?Enter Y or NN\n"
     ]
    }
   ],
   "source": [
    "while True:\n",
    "    print(\"Welcome to BLACKJACK...\")\n",
    "    playing=True\n",
    "    deck=Deck()\n",
    "    deck.shuffle()\n",
    "    player=Hand()\n",
    "    dealer=Hand()\n",
    "    player.value=0\n",
    "    dealer.value=0\n",
    "    for i in range(2):\n",
    "        player.add_card(deck.deal())\n",
    "        dealer.add_card(deck.deal())\n",
    "    chip=Chips()\n",
    "    chip.bet=take_bet()   \n",
    "    show_some(player,dealer)\n",
    "    win=False\n",
    "    while playing:\n",
    "        if player.value<21:\n",
    "            hit_or_stand(deck,player)\n",
    "            show_some(player,dealer)\n",
    "        \n",
    "        elif player.value>21:\n",
    "            player_busts()\n",
    "            break\n",
    "        elif player.value==21:\n",
    "            break\n",
    "    while dealer.value<=17 and player.value<21:\n",
    "        hit(deck,dealer)\n",
    "    \n",
    "    show_all(player,dealer)\n",
    "\n",
    "    if dealer.value>21:\n",
    "        dealer_busts()\n",
    "        player_wins()\n",
    "        win=True\n",
    "    elif player.value==21:\n",
    "        print(\"WOW IT'S A BLACKJACK for the PLAYER\")\n",
    "        win=True\n",
    "    elif dealer.value==21:\n",
    "        print(\"WOW IT'S A BLACKJACK for the DEALER\")\n",
    "        win=False\n",
    "    elif dealer.value==player.value:\n",
    "        print(\"It's a tie\")\n",
    "        win='flag'\n",
    "    elif(player.value<21 and dealer.value<21):\n",
    "        if 21-dealer.value<21-player.value:\n",
    "            dealer_wins()\n",
    "        \n",
    "        elif 21-dealer.value>21-player.value:\n",
    "            player_wins()\n",
    "            win=True\n",
    "    if(win=='flag'):\n",
    "        print(\"Player: \",chip.total)\n",
    "        print(\"Dealer: \",chip.total)\n",
    "    elif win:\n",
    "        \n",
    "        chip.win_bet()\n",
    "        print(\"Player: \",chip.total)\n",
    "        chip.lose_bet()\n",
    "        print(\"Dealer: \",chip.total)\n",
    "    elif not win:\n",
    "        chip.win_bet()\n",
    "        print(\"Dealer: \",chip.total)\n",
    "        chip.lose_bet()\n",
    "        print(\"Player: \",chip.total)\n",
    "    while True:\n",
    "        try:\n",
    "            ch=input(\"Would you like to play again?Enter Y or N\")\n",
    "        except:\n",
    "            print(\"Please enter Y or N\")\n",
    "            continue\n",
    "        else:\n",
    "            if(ch=='Y'):\n",
    "                x=0\n",
    "                break\n",
    "                  \n",
    "            if(ch==\"N\"):\n",
    "                x=1\n",
    "                break\n",
    "    if x==0:\n",
    "        continue\n",
    "    elif x==1:\n",
    "        break "
   ]
  },
  {
   "cell_type": "markdown",
   "metadata": {},
   "source": []
  },
  {
   "cell_type": "code",
   "execution_count": null,
   "metadata": {},
   "outputs": [],
   "source": []
  },
  {
   "cell_type": "code",
   "execution_count": null,
   "metadata": {},
   "outputs": [],
   "source": []
  },
  {
   "cell_type": "code",
   "execution_count": null,
   "metadata": {},
   "outputs": [],
   "source": []
  }
 ],
 "metadata": {
  "kernelspec": {
   "display_name": "Python 3",
   "language": "python",
   "name": "python3"
  },
  "language_info": {
   "codemirror_mode": {
    "name": "ipython",
    "version": 3
   },
   "file_extension": ".py",
   "mimetype": "text/x-python",
   "name": "python",
   "nbconvert_exporter": "python",
   "pygments_lexer": "ipython3",
   "version": "3.7.3"
  }
 },
 "nbformat": 4,
 "nbformat_minor": 2
}
